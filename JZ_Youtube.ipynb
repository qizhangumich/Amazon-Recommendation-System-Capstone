{
  "nbformat": 4,
  "nbformat_minor": 0,
  "metadata": {
    "colab": {
      "provenance": [],
      "authorship_tag": "ABX9TyM+2w3EGeQw43olssRdBqJa",
      "include_colab_link": true
    },
    "kernelspec": {
      "name": "python3",
      "display_name": "Python 3"
    },
    "language_info": {
      "name": "python"
    }
  },
  "cells": [
    {
      "cell_type": "markdown",
      "metadata": {
        "id": "view-in-github",
        "colab_type": "text"
      },
      "source": [
        "<a href=\"https://colab.research.google.com/github/qizhangumich/Amazon-Recommendation-System-Capstone/blob/master/JZ_Youtube.ipynb\" target=\"_parent\"><img src=\"https://colab.research.google.com/assets/colab-badge.svg\" alt=\"Open In Colab\"/></a>"
      ]
    },
    {
      "cell_type": "code",
      "source": [
        "print(\"Notebook started\")"
      ],
      "metadata": {
        "id": "fm0DR7QLk1jW"
      },
      "execution_count": null,
      "outputs": []
    },
    {
      "cell_type": "code",
      "source": [
        "from google.colab import drive\n",
        "drive.mount('/content/drive')"
      ],
      "metadata": {
        "colab": {
          "base_uri": "https://localhost:8080/"
        },
        "id": "i-c-eUNX1ZNO",
        "outputId": "6f654a1e-f37c-4d26-9729-cc131a638ead"
      },
      "execution_count": null,
      "outputs": [
        {
          "output_type": "stream",
          "name": "stdout",
          "text": [
            "Drive already mounted at /content/drive; to attempt to forcibly remount, call drive.mount(\"/content/drive\", force_remount=True).\n"
          ]
        }
      ]
    },
    {
      "cell_type": "code",
      "source": [
        "# 设置文件路径\n",
        "CLIENT_SECRETS_FILE = '/content/drive/My Drive/my project/youtube/client_secret.json'\n",
        "TOKEN_FILE = '/content/drive/My Drive/my project/youtube/token.pickle'"
      ],
      "metadata": {
        "id": "lpTq-Fn1-Rj3"
      },
      "execution_count": null,
      "outputs": []
    },
    {
      "cell_type": "code",
      "source": [
        "import os\n",
        "import pickle\n",
        "import google.auth.transport.requests\n",
        "import google_auth_oauthlib.flow\n",
        "import googleapiclient.discovery\n",
        "import googleapiclient.errors\n",
        "import smtplib\n",
        "from email.mime.text import MIMEText\n",
        "from datetime import datetime, timedelta\n",
        "import pytz  # 处理时区\n",
        "from google.colab import drive  # 适用于 Google Colab\n",
        "\n",
        "# 挂载 Google Drive\n",
        "#drive.mount('/content/drive')\n",
        "\n",
        "# 配置文件路径\n",
        "#CLIENT_SECRETS_FILE = '/content/drive/My Drive/OAuth/client_secret.json'  # 在 Google Drive 中的路径\n",
        "#TOKEN_FILE = '/content/drive/My Drive/OAuth/token.pickle'  # 在 Google Drive 中存储 OAuth 凭证\n",
        "SCOPES = [\"https://www.googleapis.com/auth/youtube.readonly\"]\n",
        "\n",
        "# 你需要检查的频道 ID 列表\n",
        "channel_ids = [\n",
        "    'UCESh5daDcPqvG0QhbSdzIzw',  # Millionaires Investment Secrets\n",
        "    'UCbmNph6atAoGfqLoCL_duAg',  # Talks at Google\n",
        "    'UCp5hG8rt1z2MJ9aNVxY2Xdg',  # New Economic Thinking\n",
        "    'UCYO_jab_esuFRV4b17AJtAw',  # 3Blue1Brown\n",
        "    'UCQ58rNgEE1Vt3G40E_NWAsA',  # 每日一书\n",
        "    'UC2L7vR43LKuBXXV2AentEMw',  # Luke's English Podcast\n",
        "    'UC6LU7FUBvbFCh_cQasrHZ_Q',  # MacroMicro財經M平方\n",
        "    'UCZgt6AzoyjslHTC9dz0UoTw',  # ByteByteGo\n",
        "    'UCy32uaK6T0itKPG5mtH9sow',  # Math Window\n",
        "    'UCO17pDLFQBKGitI2F7_c_JQ',  # Alanis Business Academy\n",
        "    'UCpCSAcbqs-sjEVfk_hMfY9w',  # Zach Star\n",
        "    'UCd6Za0CXVldhY8fK8eYoIuw',  # Freedom in Thought\n",
        "    'UC2m77KGMIKZCD0Kw35-4shQ',  # Yuval Noah Harari\n",
        "    'UC-98P1HknuXGxDYNwlxsKwQ'   # The Great Courses\n",
        "]\n",
        "\n",
        "# 获取已认证的 YouTube 服务\n",
        "def get_authenticated_service():\n",
        "    credentials = None\n",
        "\n",
        "    # 尝试从 Google Drive 加载保存的凭据\n",
        "    if os.path.exists(TOKEN_FILE):\n",
        "        with open(TOKEN_FILE, 'rb') as token_file:\n",
        "            credentials = pickle.load(token_file)\n",
        "\n",
        "    # 如果没有凭据或凭据无效，则通过 OAuth 流程授权\n",
        "    if not credentials or not credentials.valid:\n",
        "        if credentials and credentials.expired and credentials.refresh_token:\n",
        "            # 凭据过期但有刷新令牌，则刷新凭据\n",
        "            credentials.refresh(google.auth.transport.requests.Request())\n",
        "        else:\n",
        "            # 第一次授权，启动 OAuth 流程\n",
        "            flow = google_auth_oauthlib.flow.InstalledAppFlow.from_client_secrets_file(CLIENT_SECRETS_FILE, SCOPES)\n",
        "            credentials = flow.run_local_server(port=0, open_browser=False)\n",
        "\n",
        "        # 将新凭据保存到 Google Drive\n",
        "        with open(TOKEN_FILE, 'wb') as token_file:\n",
        "            pickle.dump(credentials, token_file)\n",
        "\n",
        "    return googleapiclient.discovery.build(\"youtube\", \"v3\", credentials=credentials)\n",
        "\n",
        "# 获取频道上传视频的播放列表 ID\n",
        "def get_uploads_playlist_id(youtube, channel_id):\n",
        "    try:\n",
        "        request = youtube.channels().list(\n",
        "            part=\"contentDetails\",\n",
        "            id=channel_id\n",
        "        )\n",
        "        response = request.execute()\n",
        "        if 'items' in response and len(response['items']) > 0:\n",
        "            uploads_playlist_id = response['items'][0]['contentDetails']['relatedPlaylists']['uploads']\n",
        "            return uploads_playlist_id\n",
        "        else:\n",
        "            print(f\"未找到与频道 ID {channel_id} 相关的内容。可能是无效的频道 ID。\")\n",
        "            return None\n",
        "    except googleapiclient.errors.HttpError as e:\n",
        "        print(f\"获取频道 {channel_id} 时发生错误: {e}\")\n",
        "        return None\n",
        "\n",
        "# 获取播放列表中最近 24 小时发布的视频\n",
        "def get_latest_videos_from_playlist(youtube, playlist_id, max_results=5):\n",
        "    try:\n",
        "        request = youtube.playlistItems().list(\n",
        "            part=\"snippet\",\n",
        "            playlistId=playlist_id,\n",
        "            maxResults=max_results\n",
        "        )\n",
        "        response = request.execute()\n",
        "        print(\"YouTube information collected\")\n",
        "        videos = []\n",
        "        if 'items' in response:\n",
        "            for item in response['items']:\n",
        "                video_title = item['snippet']['title']\n",
        "                video_id = item['snippet']['resourceId']['videoId']\n",
        "                published_at = item['snippet']['publishedAt']\n",
        "                video_link = f\"https://www.youtube.com/watch?v={video_id}\"\n",
        "\n",
        "                # 转换发布时间为 datetime 对象\n",
        "                published_at_dt = datetime.strptime(published_at, \"%Y-%m-%dT%H:%M:%SZ\")\n",
        "                published_at_dt = pytz.utc.localize(published_at_dt)  # 将其设置为 UTC 时间\n",
        "\n",
        "                # 获取当前时间并计算过去 24 小时\n",
        "                now = datetime.now(pytz.utc)\n",
        "                past_24_hours = now - timedelta(hours=24)\n",
        "\n",
        "                # 只保留过去 24 小时发布的视频\n",
        "                if published_at_dt > past_24_hours:\n",
        "                    videos.append((video_title, video_link, published_at))\n",
        "\n",
        "        return videos\n",
        "    except googleapiclient.errors.HttpError as e:\n",
        "        print(f\"获取播放列表 {playlist_id} 时发生错误: {e}\")\n",
        "        return []\n",
        "\n",
        "# 发送邮件提醒\n",
        "def send_email(subject, body, to_email):\n",
        "    msg = MIMEText(body)\n",
        "    msg['Subject'] = subject\n",
        "    msg['From'] = 'zhangqi362@163.com'  # 发件人\n",
        "    msg['To'] = to_email  # 收件人\n",
        "\n",
        "    # 使用 163 邮箱的 SMTP 服务器发送邮件\n",
        "    smtp_server = 'smtp.163.com'\n",
        "    smtp_port = 25  # 163 邮箱使用端口 25\n",
        "    sender_email = 'zhangqi362@163.com'\n",
        "    sender_password = 'QPGGDKBLTZIYWDMZ'  # 163 邮箱的授权码或密码\n",
        "\n",
        "    try:\n",
        "        # 使用 SMTP 连接发送邮件\n",
        "        with smtplib.SMTP(smtp_server, smtp_port) as server:\n",
        "            server.starttls()  # 启用 TLS 加密\n",
        "            server.login(sender_email, sender_password)  # 登录邮箱\n",
        "            server.sendmail(sender_email, to_email, msg.as_string())  # 发送邮件\n",
        "        print(f\"邮件已成功发送至 {to_email}\")\n",
        "    except Exception as e:\n",
        "        print(f\"发送邮件时出错: {e}\")\n",
        "\n",
        "# 检查所有频道的视频更新，并汇总后发送一封邮件\n",
        "def check_all_channels_and_notify(youtube):\n",
        "    all_videos = []  # 用于存储所有新视频信息\n",
        "\n",
        "    for channel_id in channel_ids:\n",
        "        print(f\"检查频道: {channel_id}\")\n",
        "        uploads_playlist_id = get_uploads_playlist_id(youtube, channel_id)\n",
        "        if uploads_playlist_id:\n",
        "            latest_videos = get_latest_videos_from_playlist(youtube, uploads_playlist_id)\n",
        "            if latest_videos:\n",
        "                all_videos.extend(latest_videos)\n",
        "\n",
        "    # 如果有新视频，汇总并发送邮件\n",
        "    if all_videos:\n",
        "        body = \"\\n\\n\".join([f\"视频标题: {title}\\n链接: {link}\\n发布时间: {published_at}\" for title, link, published_at in all_videos])\n",
        "        send_email(\"每日You最新讯息\", body, 'zhangqi@cpe-fund.com')\n",
        "        print(\"Email sent successfully\")\n",
        "    else:\n",
        "        print(\"没有过去 24 小时内的新视频发布。\")\n",
        "\n",
        "# 主程序\n",
        "def main():\n",
        "    youtube = get_authenticated_service()\n",
        "    check_all_channels_and_notify(youtube)\n",
        "\n",
        "if __name__ == \"__main__\":\n",
        "    main()\n"
      ],
      "metadata": {
        "colab": {
          "base_uri": "https://localhost:8080/"
        },
        "id": "OdmhLHZg-pmq",
        "outputId": "9f931bce-5ffe-473d-ace5-e77a0765029d"
      },
      "execution_count": null,
      "outputs": [
        {
          "output_type": "stream",
          "name": "stdout",
          "text": [
            "检查频道: UCESh5daDcPqvG0QhbSdzIzw\n",
            "检查频道: UCbmNph6atAoGfqLoCL_duAg\n",
            "检查频道: UCp5hG8rt1z2MJ9aNVxY2Xdg\n",
            "检查频道: UCYO_jab_esuFRV4b17AJtAw\n",
            "检查频道: UCQ58rNgEE1Vt3G40E_NWAsA\n",
            "检查频道: UC2L7vR43LKuBXXV2AentEMw\n",
            "检查频道: UC6LU7FUBvbFCh_cQasrHZ_Q\n",
            "检查频道: UCZgt6AzoyjslHTC9dz0UoTw\n",
            "检查频道: UCy32uaK6T0itKPG5mtH9sow\n",
            "检查频道: UCO17pDLFQBKGitI2F7_c_JQ\n",
            "检查频道: UCpCSAcbqs-sjEVfk_hMfY9w\n",
            "检查频道: UCd6Za0CXVldhY8fK8eYoIuw\n",
            "检查频道: UC2m77KGMIKZCD0Kw35-4shQ\n",
            "检查频道: UC-98P1HknuXGxDYNwlxsKwQ\n",
            "邮件已成功发送至 zhangqi@cpe-fund.com\n"
          ]
        }
      ]
    },
    {
      "cell_type": "code",
      "source": [],
      "metadata": {
        "id": "To2TmxUk1VGw"
      },
      "execution_count": null,
      "outputs": []
    }
  ]
}